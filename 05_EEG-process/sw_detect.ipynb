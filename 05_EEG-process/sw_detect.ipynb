{
 "cells": [
  {
   "cell_type": "markdown",
   "metadata": {},
   "source": [
    "### The objective\n",
    "\n",
    "create a short and sweet notebook that takes in EEGLAB preprocessed data, and outputs SW statistics\n",
    "\n",
    "## Some questions to look into with time\n",
    "\n",
    "- why some sw seem to be detected by multiple channels while other sw are detected by a single ch?\n",
    "- how can we look at \"traveling\" vs focal sw? i.e Type I vs Type II\n",
    "- is there specific sw features that are correlated with their distribution?\n",
    "\n",
    "- are there more sw detected in frontal ch?"
   ]
  },
  {
   "cell_type": "code",
   "execution_count": null,
   "metadata": {},
   "outputs": [],
   "source": [
    "#Import the goods:\n",
    "#matplotlib qu allows you to open interactive figures. Highly Recommended for this notebook\n",
    "#Make sure you activate the YASA conda environment\n",
    "%matplotlib qt  \n",
    "import mne\n",
    "import numpy as np\n",
    "import pandas as pd\n",
    "import yasa\n",
    "import matplotlib as plt\n",
    "import statsmodels.api as sm\n",
    "import ipywidgets\n"
   ]
  },
  {
   "cell_type": "markdown",
   "metadata": {},
   "source": [
    "## This next few cells will shop you different methods of getting help:\n",
    "\n",
    "**1. Using the help() Function**\n",
    "\n",
    "You can use Python’s built-in help() function to see the documentation of a function, module, or object. This will display a scrollable text area inside the notebook that includes the docstring and other helpful information.\n",
    "\n",
    "**2. Using Question Mark ?**\n",
    "\n",
    "Appending a question mark (?) before or after an object, method, or function in a Jupyter Notebook will display its docstring in a pop-up window. Handy tool for quick look-ups.\n",
    "\n",
    "**3. Using Double Question Marks ??**\n",
    "\n",
    "More detailed information, including the source code (if available), you can use double question marks (??). This is useful for understanding the implementation details.\n",
    "\n",
    "**4. Using the dir() Function**\n",
    "\n",
    "To get a list of all the attributes and methods associated with an object, module, or class, you can use the dir() function. Does not provide documentation, but helps you explore what’s available."
   ]
  },
  {
   "cell_type": "code",
   "execution_count": null,
   "metadata": {},
   "outputs": [],
   "source": [
    "help(yasa.bandpower)"
   ]
  },
  {
   "cell_type": "code",
   "execution_count": null,
   "metadata": {},
   "outputs": [],
   "source": [
    "yasa.compute_features_stage?"
   ]
  },
  {
   "cell_type": "code",
   "execution_count": null,
   "metadata": {},
   "outputs": [],
   "source": [
    "yasa.filter_data??"
   ]
  },
  {
   "cell_type": "code",
   "execution_count": null,
   "metadata": {},
   "outputs": [],
   "source": [
    "dir(yasa.art_detect)"
   ]
  },
  {
   "cell_type": "markdown",
   "metadata": {},
   "source": [
    "### Load data\n",
    "* Change the io.methodX based on the EEG file type you are trying to load\n",
    "* `preload` lets you keep the data in memory and manipulate it in different cells."
   ]
  },
  {
   "cell_type": "code",
   "execution_count": null,
   "metadata": {},
   "outputs": [],
   "source": [
    "fname = '/Users/idohaber/Desktop/Source_test/1_Functional_Data/02_27_pilot_MB_sleep1_HP_LP_bc_we_short_bs_sr_avgref.set'\n",
    "raw = mne.io.read_raw_eeglab(fname, preload=True);\n",
    "#raw.filter(0.5, 30, fir_design='firwin')  # Adjust the frequency range as needed\n",
    "raw"
   ]
  },
  {
   "cell_type": "code",
   "execution_count": null,
   "metadata": {},
   "outputs": [],
   "source": [
    "# prepare the data for processing\n",
    "data = raw.get_data(units=\"uV\") \n",
    "raw.resample(100)\n",
    "sf = raw.info['sfreq']\n",
    "print(data.shape , sf)"
   ]
  },
  {
   "cell_type": "code",
   "execution_count": null,
   "metadata": {},
   "outputs": [],
   "source": [
    "# View the raw data and make sure everything looks as expected\n",
    "raw.plot(clipping=None);"
   ]
  },
  {
   "cell_type": "code",
   "execution_count": null,
   "metadata": {},
   "outputs": [],
   "source": [
    "# Drop bad channels and view remaining channels\n",
    "raw.drop_channels('E63');\n",
    "chan = raw.ch_names\n",
    "print(chan)"
   ]
  },
  {
   "cell_type": "code",
   "execution_count": null,
   "metadata": {},
   "outputs": [],
   "source": [
    "events = mne.events_from_annotations(raw) # raw events\n",
    "events_id = events[-1]                    # grab event dict\n",
    "actual_events = events[:-1][0]            # grab actual events\n",
    "print(events_id ,'\\n') \n",
    "print(actual_events)"
   ]
  },
  {
   "cell_type": "code",
   "execution_count": null,
   "metadata": {},
   "outputs": [],
   "source": [
    "column_dict = {'Sleep Stage': 1, 'boundary': 2, 'stim end': 3, 'stim start': 4}\n",
    "\n",
    "# Indices for 'stim end' and 'stim start'\n",
    "stim_end_index = column_dict['stim end']\n",
    "stim_start_index = column_dict['stim start']\n",
    "\n",
    "# Filtering the list and removing the value at index 1\n",
    "filtered_and_trimmed_data = [[item[0], item[2]] for item in actual_events if item[2] in [3, 4]] #if you want to remove the first index\n",
    "filtered_data = [item for item in actual_events if item[2] == stim_end_index or item[2] == stim_start_index] # for convient visualization in MNE formatting\n",
    "\n",
    "# Extracting epochs\n",
    "epochs = [(filtered_data[i][0], filtered_data[i+1][0]) for i in range(len(filtered_data) - 1)]\n",
    "\n",
    "# Separate the epochs into 'stim' and 'non-stim' based on odd and even indices\n",
    "stim_epochs = [epochs[i] for i in range(len(epochs)) if i % 2 == 0]  # Even index: 0, 2, 4, ...\n",
    "non_stim_epochs = [epochs[i] for i in range(len(epochs)) if i % 2 != 0]  # Odd index: 1, 3, 5, ...\n",
    "\n",
    "print(\"Stim Epochs:\", stim_epochs)\n",
    "print(\"Non-Stim Epochs:\", non_stim_epochs)\n"
   ]
  },
  {
   "cell_type": "code",
   "execution_count": null,
   "metadata": {},
   "outputs": [],
   "source": [
    "def convert_sample_to_time(epochs, sf):\n",
    "    return [(start / sf, end / sf) for start, end in epochs]\n",
    "\n",
    "def filter_df_by_epochs(df, epochs):\n",
    "    # This function filters the DataFrame to only include rows within any of the specified epochs\n",
    "    return pd.concat([df[(df['time'] >= start) & (df['time'] <= end)] for start, end in epochs])"
   ]
  },
  {
   "cell_type": "code",
   "execution_count": null,
   "metadata": {},
   "outputs": [],
   "source": [
    "# Convert epoch values from samples to time\n",
    "stim_epochs_time = convert_sample_to_time(stim_epochs, sf)\n",
    "non_stim_epochs_time = convert_sample_to_time(non_stim_epochs, sf)\n",
    "print('Stim Epochs:' ,  stim_epochs_time)\n",
    "print('Non Stim Epochs' , non_stim_epochs_time)"
   ]
  },
  {
   "cell_type": "code",
   "execution_count": null,
   "metadata": {},
   "outputs": [],
   "source": [
    "# show events over time\n",
    "show_events = mne.viz.plot_events(actual_events) \n",
    "show_stim_events = mne.viz.plot_events(filtered_data)\n"
   ]
  },
  {
   "cell_type": "code",
   "execution_count": null,
   "metadata": {},
   "outputs": [],
   "source": [
    "yasa.plot_spectrogram(data[chan.index(\"E10\")], sf , win_sec=5);"
   ]
  },
  {
   "cell_type": "code",
   "execution_count": null,
   "metadata": {},
   "outputs": [],
   "source": [
    "#sw = yasa.sw_detect(raw, hypno=hypno_up, include=(2, 3))\n",
    "sw = yasa.sw_detect(raw, verbose=False, coupling=False);\n",
    "df = sw.summary(); # general summary for each sw\n",
    "df # Inspect the dataframe"
   ]
  },
  {
   "cell_type": "code",
   "execution_count": null,
   "metadata": {},
   "outputs": [],
   "source": [
    "sw.plot_detection() # lets you scroll through the detection very conveniently"
   ]
  },
  {
   "cell_type": "code",
   "execution_count": null,
   "metadata": {},
   "outputs": [],
   "source": [
    "# Define the classification function\n",
    "def classify_wave(start_time, stim_epochs_time, non_stim_epochs_time):\n",
    "    \"\"\"Classify each wave based on the start time into 'Stim' or 'Non-Stim'.\"\"\"\n",
    "    for start, end in stim_epochs_time:\n",
    "        if start <= start_time <= end:\n",
    "            return 'Stim'\n",
    "    for start, end in non_stim_epochs_time:\n",
    "        if start <= start_time <= end:\n",
    "            return 'Non-Stim'\n",
    "    return 'Unknown'  # If the wave does not fall within either then put it here\n",
    "# Apply classification to DataFrame\n",
    "df['Classification'] = df['Start'].apply(classify_wave, args=(stim_epochs_time, non_stim_epochs_time))"
   ]
  },
  {
   "cell_type": "code",
   "execution_count": null,
   "metadata": {},
   "outputs": [],
   "source": [
    "# Group by classification and calculate mean and count for each group\n",
    "comparison_means = df.groupby('Classification')[['Duration', 'ValNegPeak', 'ValPosPeak', 'PTP', 'Frequency']].mean()\n",
    "comparison_counts = df.groupby('Classification')['Start'].count()  # Counting instances using the 'Start' column\n",
    "\n",
    "# Print results\n",
    "print(\"Mean Values by Group:\")\n",
    "print(comparison_means)\n",
    "print(\"\\nCount of Instances by Group:\")\n",
    "print(comparison_counts)\n"
   ]
  },
  {
   "cell_type": "code",
   "execution_count": null,
   "metadata": {},
   "outputs": [],
   "source": [
    "df #look at the frame to make sure classification added properly "
   ]
  },
  {
   "cell_type": "code",
   "execution_count": null,
   "metadata": {},
   "outputs": [],
   "source": [
    "import matplotlib.pyplot as plt\n",
    "# Plotting Mean Values with annotations and moving the legend outside\n",
    "plt.figure(figsize=(15, 6))\n",
    "plt.subplot(1, 2, 1)  # This means 1 row, 2 columns, first plot\n",
    "ax = comparison_means.plot(kind='bar', ax=plt.gca(), color=['#6baed6', '#bdd7e7', '#eff3ff', '#fdbe85', '#fd8d3c'])\n",
    "plt.title('Mean Values of Wave Properties')\n",
    "plt.ylabel('Mean Values')\n",
    "plt.xlabel('Classification' , labelpad=10)\n",
    "plt.xticks(rotation=0)\n",
    "#add_value_labels(ax)\n",
    "plt.legend(title='Properties', loc='upper left', bbox_to_anchor=(1,1))  # Moving the legend outside\n",
    "\n",
    "# Plotting Counts with annotations and moving the legend outside\n",
    "plt.subplot(1, 2, 2)  # This means 1 row, 2 columns, second plot\n",
    "ax2 = comparison_counts.plot(kind='bar', color='#6baed6', ax=plt.gca())\n",
    "plt.title('Count of Instances by Group')\n",
    "plt.ylabel('Count')\n",
    "plt.xlabel('Classification' , labelpad=10)\n",
    "plt.xticks(rotation=0)\n",
    "#add_value_labels(ax2)\n",
    "\n",
    "# Show plots\n",
    "plt.tight_layout()  # This adjusts subplots to give some padding and prevent overlap\n",
    "plt.show()\n"
   ]
  },
  {
   "cell_type": "code",
   "execution_count": null,
   "metadata": {},
   "outputs": [],
   "source": [
    "# Assuming df is your DataFrame name\n",
    "print(\"Descriptive Statistics for Start Times:\")\n",
    "print(df['Start'].describe())\n",
    "\n",
    "print(\"\\nDescriptive Statistics for Slope:\")\n",
    "print(df['Slope'].describe())\n",
    "\n",
    "correlation = df['Start'].corr(df['Slope'])\n",
    "print(\"Correlation coefficient between 'Start' and 'Slope':\", correlation)"
   ]
  },
  {
   "cell_type": "code",
   "execution_count": null,
   "metadata": {},
   "outputs": [],
   "source": [
    "# Ensure 'Start' is the independent variable and 'Slope' is the dependent variable\n",
    "X = sm.add_constant(df['Start'])  # adding a constant\n",
    "y = df['Slope']\n",
    "model = sm.OLS(y, X).fit()\n"
   ]
  },
  {
   "cell_type": "code",
   "execution_count": null,
   "metadata": {},
   "outputs": [],
   "source": [
    "import matplotlib.pyplot as plt\n",
    "\n",
    "plt.figure(figsize=(10, 6))\n",
    "plt.scatter(df['Start'], df['Slope'], alpha=0.5, label='Data Points') #alpha controls the transperacy\n",
    "plt.plot(df['Start'], model.predict(X), color='red', label='Regression Line')\n",
    "plt.title('Relationship between Start Time and Slope of Slow Waves')\n",
    "plt.xlabel('Start Time (s)')\n",
    "plt.ylabel('Slope')\n",
    "plt.legend()\n",
    "plt.show()"
   ]
  },
  {
   "cell_type": "code",
   "execution_count": null,
   "metadata": {},
   "outputs": [],
   "source": [
    "sw_chan = sw.summary(grp_chan=True, grp_stage=True) #summary per channel\n",
    "sw_chan.head(10)"
   ]
  },
  {
   "cell_type": "code",
   "execution_count": null,
   "metadata": {},
   "outputs": [],
   "source": [
    "frontal_ch = ['E31', 'E166', 'E32', 'E167', 'E25', 'E189', '177']\n",
    "posterior_ch = ['E118', 'E127', 'E152', 'E109', 'E137', 'E115', 'E159']\n",
    "\n",
    "\n",
    "# Apply classification to DataFrame\n",
    "df['Classification'] = df['Start'].apply(classify_wave, args=(stim_epochs_time, non_stim_epochs_time))6\n",
    "\n"
   ]
  },
  {
   "cell_type": "code",
   "execution_count": null,
   "metadata": {},
   "outputs": [],
   "source": [
    "raw.plot_sensors(kind='3d', show_names=True ); # this is a place holder for now so I do not forget"
   ]
  },
  {
   "cell_type": "markdown",
   "metadata": {},
   "source": [
    "### How to create manual epochs for SW and average them\n",
    "1. raster plot\n",
    "2. line graph"
   ]
  },
  {
   "cell_type": "code",
   "execution_count": null,
   "metadata": {},
   "outputs": [],
   "source": [
    "channels = ['EEG 001' , 'EEG 002' , 'EEG 003']\n",
    "\n",
    "# Loop over each channel\n",
    "for chn in channels:\n",
    "    # Filter DataFrame for current channel\n",
    "    df_chn = df[df['Channel'] == chn]\n",
    "    # Convert 'Start' and 'End' times to sample indices\n",
    "    start_samples = (df_chn['Start'] * sf).astype(int)\n",
    "    end_samples = (df_chn['End'] * sf).astype(int)\n",
    "    # Calculate tmin and tmax\n",
    "    tmin = -0.2  # 200 ms before the start time\n",
    "    tmax = np.max((end_samples - start_samples) / sf) + 0.1  # 500 ms after the longest end\n",
    "    # Create an events array\n",
    "    events_chn = np.column_stack((start_samples, np.zeros_like(start_samples), np.ones_like(start_samples)))\n",
    "    # Create Epochs\n",
    "    epochs_chn = mne.Epochs(raw, events_chn, event_id=1, tmin=tmin, tmax=tmax, picks=[chn], baseline=(None, 0), preload=True)\n",
    "\n",
    "    # Plotting\n",
    "    # Plot epochs\n",
    "    epochs_chn.plot(scalings={'eeg': 60e-6})  # Adjust scalings if necessary\n",
    "\n",
    "    # Plotting epochs with the image plot that includes the average and the individual epochs\n",
    "    epochs_chn.plot_image(picks=chn, combine='mean')\n",
    "\n",
    "    \n",
    "\n",
    "    "
   ]
  },
  {
   "cell_type": "code",
   "execution_count": null,
   "metadata": {},
   "outputs": [],
   "source": [
    "sw.plot_average(figsize=(12, 9)) # creates an avg figure for all SW from all channels"
   ]
  },
  {
   "cell_type": "markdown",
   "metadata": {},
   "source": [
    "### Troubleshooting\n",
    "The following cells will come in handy if you need further data manipulation"
   ]
  },
  {
   "cell_type": "code",
   "execution_count": null,
   "metadata": {},
   "outputs": [],
   "source": [
    "# Find the index of the minimum value in the 'ValNegPeak' column\n",
    "min_index = df['ValNegPeak'].idxmin()\n",
    "\n",
    "# To display the index\n",
    "print(\"Index of minimum value in 'ValNegPeak':\", min_index)\n",
    "\n",
    "# If you want to see the entire row corresponding to this minimum value\n",
    "min_value_row = df.loc[min_index]\n",
    "print(min_value_row)"
   ]
  }
 ],
 "metadata": {
  "kernelspec": {
   "display_name": "Python 3 (ipykernel)",
   "language": "python",
   "name": "python3"
  },
  "language_info": {
   "codemirror_mode": {
    "name": "ipython",
    "version": 3
   },
   "file_extension": ".py",
   "mimetype": "text/x-python",
   "name": "python",
   "nbconvert_exporter": "python",
   "pygments_lexer": "ipython3",
   "version": "3.12.2"
  }
 },
 "nbformat": 4,
 "nbformat_minor": 4
}
